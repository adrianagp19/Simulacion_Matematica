{
 "cells": [
  {
   "cell_type": "markdown",
   "metadata": {},
   "source": [
    "# Programación lineal\n",
    "\n",
    "<img style=\"float: right; margin: 0px 0px 15px 15px;\" src=\"https://upload.wikimedia.org/wikipedia/commons/thumb/0/0c/Linear_Programming_Feasible_Region.svg/2000px-Linear_Programming_Feasible_Region.svg.png\" width=\"400px\" height=\"125px\" />\n",
    "\n",
    "> La programación lineal es el campo de la optimización matemática dedicado a maximizar o minimizar (optimizar) funciones lineales, denominada función objetivo, de tal forma que las variables de dicha función estén sujetas a una serie de restricciones expresadas mediante un sistema de ecuaciones o inecuaciones también lineales.\n",
    "\n",
    "**Referencias:**\n",
    "- https://es.wikipedia.org/wiki/Programaci%C3%B3n_lineal\n",
    "- https://docs.scipy.org/doc/scipy/reference/"
   ]
  },
  {
   "cell_type": "markdown",
   "metadata": {},
   "source": [
    "## 1. Apuntes históricos\n",
    "\n",
    "<img style=\"float: right; margin: 0px 0px 25px 25px;\" src=\"https://upload.wikimedia.org/wikipedia/commons/5/5e/JohnvonNeumann-LosAlamos.gif\" width=\"200px\" height=\"60px\" />\n",
    "\n",
    "- 1826:\tJoseph Fourier anticipa la programación lineal. Carl Friedrich Gauss resuelve ecuaciones lineales por eliminación \"gaussiana\".\n",
    "- 1902:\tGyula Farkas concibe un método para resolver sistemas de inecuaciones.\n",
    "- Es hasta la Segunda Guerra Mundial que se plantea la programación lineal como un modelo matemático para planificar gastos y retornos, de modo que se reduzcan costos de guerra y aumentar pérdidas del enemigo. Secreto hasta 1947 (posguerra).\n",
    "- 1947:\tGeorge Dantzig publica el algoritmo simplex y John von Neumann desarrolló la teoría de la dualidad. Se sabe que Leonid Kantoróvich también formuló la teoría en forma independiente.\n",
    "- Fue usado por muchas industrias en la planificación diaria.\n",
    "- 1979: Leonid Khachiyan, diseñó el llamado Algoritmo del elipsoide, a través del cual demostró que el problema de la programación lineal es resoluble de manera eficiente, es decir, en tiempo polinomial.\n",
    "- 1984: Narendra Karmarkar introduce el método del punto interior para resolver problemas de programación lineal."
   ]
  },
  {
   "cell_type": "markdown",
   "metadata": {},
   "source": [
    "## 2. Opción por complejidad\n",
    "\n",
    "Ya la clase pasada habíamos mencionado que cuando se quería optimizar una función de varias variables con restricciones, se podía aplicar siempre el método de Multiplicadores de Lagrange. Sin embargo, este método es computacionalmente muy complejo conforme crece el número de variables.\n",
    "\n",
    "Por tanto, cuando la función a optimizar y las restricciones son de caracter lineal, los métodos de solución que se pueden desarrollar son computacionalmente eficientes, por lo que es útil realizar la distinción."
   ]
  },
  {
   "cell_type": "markdown",
   "metadata": {},
   "source": [
    "## 3. Problemas de programación lineal\n",
    "\n",
    "### 3.1. Ejemplo básico\n",
    "Una compañía produce dos productos ($X_1$ y $X_2$) usando dos máquinas ($A$ y $B$). Cada unidad de $X_1$ que se produce requiere 50 minutos en la máquina $A$ y 30 minutos en la máquina $B$. Cada unidad de $X_2$ que se produce requiere 24 minutos en la máquina $A$ y 33 minutos en la máquina $B$.\n",
    "\n",
    "Al comienzo de la semana hay 30 unidades de $X_1$ y 90 unidades de $X_2$ en inventario. El tiempo de uso disponible de la máquina $A$ es de 40 horas y el de la máquina $B$ es de 35 horas.\n",
    "\n",
    "La demanda para $X_1$ en la semana actual es de 75 unidades y de $X_2$ es de 95 unidades. La política de la compañía es maximizar la suma combinada de unidades de $X_1$ e $X_2$ en inventario al finalizar la semana.\n",
    "\n",
    "Formular el problema de decidir cuánto hacer de cada producto en la semana como un problema de programación lineal."
   ]
  },
  {
   "cell_type": "markdown",
   "metadata": {},
   "source": [
    "#### Solución\n",
    "\n",
    "Viendo el ejemplo como un problema de optimización, ¿Cuál es el objetivo que buscamos? ¿Minimizar o maximizar?\n",
    "\n",
    "En este caso, todo apunta a que queremos lograr el máximo de.... **¡LA PRODUCCIÓN!**, es decir $x_1+x_2$\n",
    "\n",
    "Y vaciando los datos que ya teníamos sabemos que para lograr la producción de cada producto, tenemos lo siguiente:\n",
    "\n",
    "x1 = 50A + 30B\n",
    "\n",
    "x2 = 24A + 33B\n",
    "\n",
    "Peroooo, ¿Qué creen? Que hay algunas restricciones adicionales que tenemos que considerar:\n",
    "\n",
    "1. El tiempo de uso disponible de la máquina $A$ es de 40 horas: \n",
    "**$50x_1+24x_2\\leq 40(60)\\Rightarrow 50x_1+24x_2\\leq 2400$.**\n",
    "\n",
    "2. El tiempo de uso disponible de la máquina $B$ es de 35 horas: \n",
    "**$30x_1+33x_2\\leq 35(60)\\Rightarrow 30x_1+33x_2\\leq 2100$.**\n",
    "\n",
    "3. La demanda para $X_1$ en la semana actual es de 75 unidades, pero recuerden que ya teníamos algo producido al inicio de la semana, (30 unidades de  𝑋1  y 90 unidades de  𝑋2)\n",
    "\n",
    "**$x_1+30\\geq 75\\Rightarrow x_1\\geq 45\\Rightarrow -x_1\\leq -45$.**\n",
    "\n",
    "4. La demanda para $X_2$ en la semana actual es de 95 unidades: \n",
    "**$x_2+90\\geq 95\\Rightarrow x_2\\geq 5\\Rightarrow -x_2\\leq -5$.**\n",
    "\n",
    "Ahora, para encontrar los valores de las coordenadas que nos representen la solución a este problema podríamos utiizar varios métodos, sin embargo, utilizaremos uno de los más utilizados es el método de reducción o eliminación, el cual es muy sencillo de aplicar.\n",
    "\n",
    "El método por reducción o eliminación consiste en igualar los coeficientes de una de las variables multiplicando una o las dos ecuaciones, teniendo en cuenta que estos coeficientes queden iguales pero con signos contrarios.\n",
    "\n",
    "Así, el problema puede ser expresado en la forma explicada como: (s. a. = sujeto a...)\n",
    "\\begin{equation}\n",
    "\\begin{array}{ll}\n",
    "\\min_{x_1,x_2} & -x_1-x_2 \\\\\n",
    "\\text{s. a. }  & 50x_1+24x_2\\leq 2400 \\\\\n",
    "               & 30x_1+33x_2\\leq 2100 \\\\\n",
    "               & -x_1\\leq -45 \\\\\n",
    "               & -x_2\\leq -5,\n",
    "\\end{array}\n",
    "\\end{equation}\n",
    "\n",
    "Preferiremos, en adelante, la notación vectorial/matricial:\n",
    "\n",
    "- $\\boldsymbol{c}=\\left[-1 \\quad -1\\right]^T$,\n",
    "- $\\boldsymbol{A}=\\left[\\begin{array}{cc}50 & 24 \\\\ 30 & 33\\\\ -1 & 0\\\\ 0 & -1\\end{array}\\right]$, y\n",
    "- $\\boldsymbol{b}=\\left[2400\\quad 2100\\quad -45\\quad -5\\right]^T$."
   ]
  },
  {
   "cell_type": "markdown",
   "metadata": {},
   "source": [
    "### 3.2. En general\n",
    "De acuerdo a lo descrito anteriormente, un problema de programación lineal puede escribirse en la siguiente forma:\n",
    "\n",
    "\\begin{equation}\n",
    "\\begin{array}{ll}\n",
    "\\min_{x_1,\\dots,x_n} & c_1x_1+\\dots+c_nx_n \\\\\n",
    "\\text{s. a. }        & a^{eq}_{j,1}x_1+\\dots+a^{eq}_{j,n}x_n=b^{eq}_j \\text{ para } 1\\leq j\\leq m_1 \\\\\n",
    "                     & a_{k,1}x_1+\\dots+a_{k,n}x_n\\leq b_k \\text{ para } 1\\leq k\\leq m_2,\n",
    "\\end{array}\n",
    "\\end{equation}\n",
    "donde:\n",
    "- $x_i$ para $i=1,\\dots,n$ son las incógnitas o variables de decisión,\n",
    "- $c_i$ para $i=1,\\dots,n$ son los coeficientes de la función a optimizar,\n",
    "- $a^{eq}_{j,i}$ para $j=1,\\dots,m_1$ e $i=1,\\dots,n$, son los coeficientes de la restricción de igualdad,\n",
    "- $a_{k,i}$ para $k=1,\\dots,m_2$ e $i=1,\\dots,n$, son los coeficientes de la restricción de desigualdad,\n",
    "- $b^{eq}_j$ para $j=1,\\dots,m_1$ son valores conocidos que deben ser respetados estrictamente, y\n",
    "- $b_k$ para $k=1,\\dots,m_2$ son valores conocidos que no deben ser superados.\n",
    "\n",
    "Equivalentemente, el problema puede escribirse como\n",
    "\n",
    "\\begin{equation}\n",
    "\\begin{array}{ll}\n",
    "\\min_{\\boldsymbol{x}} & \\boldsymbol{c}^T\\boldsymbol{x} \\\\\n",
    "\\text{s. a. }        & \\boldsymbol{A}_{eq}\\boldsymbol{x}=\\boldsymbol{b}_{eq} \\\\\n",
    "                     & \\boldsymbol{A}\\boldsymbol{x}\\leq\\boldsymbol{b},\n",
    "\\end{array}\n",
    "\\end{equation}\n",
    "donde:\n",
    "- $\\boldsymbol{x}=\\left[x_1\\quad\\dots\\quad x_n\\right]^T$,\n",
    "- $\\boldsymbol{c}=\\left[c_1\\quad\\dots\\quad c_n\\right]^T$,\n",
    "- $\\boldsymbol{A}_{eq}=\\left[\\begin{array}{ccc}a^{eq}_{1,1} & \\dots & a^{eq}_{1,n}\\\\ \\vdots & \\ddots & \\vdots\\\\ a^{eq}_{m_1,1} & \\dots & a^{eq}_{m_1,n}\\end{array}\\right]$,\n",
    "- $\\boldsymbol{A}=\\left[\\begin{array}{ccc}a_{1,1} & \\dots & a_{1,n}\\\\ \\vdots & \\ddots & \\vdots\\\\ a_{m_2,1} & \\dots & a_{m_2,n}\\end{array}\\right]$,\n",
    "- $\\boldsymbol{b}_{eq}=\\left[b^{eq}_1\\quad\\dots\\quad b^{eq}_{m_1}\\right]^T$, y\n",
    "- $\\boldsymbol{b}=\\left[b_1\\quad\\dots\\quad b_{m_2}\\right]^T$.\n",
    "\n",
    "**Nota:** el problema $\\max_{\\boldsymbol{x}}\\boldsymbol{g}(\\boldsymbol{x})$ es equivalente a $\\min_{\\boldsymbol{x}}-\\boldsymbol{g}(\\boldsymbol{x})$."
   ]
  },
  {
   "cell_type": "markdown",
   "metadata": {},
   "source": [
    "#### Y una vez planteado, ¿Cómo se resuelve el problema?"
   ]
  },
  {
   "cell_type": "markdown",
   "metadata": {},
   "source": [
    "Este problema está sencillo dado que cuenta con solo dos variables. Aquí la solución gráfica es válida."
   ]
  },
  {
   "cell_type": "code",
   "execution_count": 1,
   "metadata": {},
   "outputs": [],
   "source": [
    "# Importar el módulo pyplot de la librería matplotlib, y la librería numpy\n",
    "import matplotlib.pyplot as plt\n",
    "%matplotlib inline\n",
    "import numpy as np"
   ]
  },
  {
   "cell_type": "code",
   "execution_count": 2,
   "metadata": {},
   "outputs": [],
   "source": [
    "# Definir las funciones frontera de la región factible\n",
    "def f1(x1):\n",
    "    return (2400 - 50 * x1) / 24\n",
    "def f2(x1):\n",
    "    return (2100 - 30 * x1) / 33"
   ]
  },
  {
   "cell_type": "code",
   "execution_count": 3,
   "metadata": {},
   "outputs": [],
   "source": [
    "# Vector independiente x1 y funciones evaluadas\n",
    "x1 = np.linspace(0, 100)\n",
    "y1 = f1(x1)\n",
    "y2 = f2(x1)"
   ]
  },
  {
   "cell_type": "code",
   "execution_count": 4,
   "metadata": {},
   "outputs": [
    {
     "data": {
      "text/plain": [
       "[44, 46, 4, 7]"
      ]
     },
     "execution_count": 4,
     "metadata": {},
     "output_type": "execute_result"
    },
    {
     "data": {
      "image/png": "[encoded data removed]",
      "text/plain": [
       "<Figure size 432x288 with 1 Axes>"
      ]
     },
     "metadata": {
      "needs_background": "light"
     },
     "output_type": "display_data"
    }
   ],
   "source": [
    "# Gráfica de la región factible y esquinas\n",
    "plt.figure(figsize=(6, 4))\n",
    "plt.plot(x1, y1, 'b', lw=2, label='$50x_1 + 24x_2 = 2400$')\n",
    "plt.plot(x1, y2, 'r', lw=2, label='$30x_1 + 33x_2 = 2100$')\n",
    "plt.axvline(x=45, c='y', label='$x_1=45$')\n",
    "plt.axhline(y=5, c='c', label='$x_2=5$')\n",
    "plt.text(45, 5, '$(45, 5)$')\n",
    "plt.text(45, (2400 - 50 * 45) / 24, f'$(45, {(2400 - 50 * 45) / 24})$')\n",
    "plt.text((2400 - 24 * 5) / 50, 5, f'$({(2400 - 24 * 5) / 50}, 5)$')\n",
    "plt.xlabel('$x_1$')\n",
    "plt.ylabel('$x_2$')\n",
    "plt.grid()\n",
    "plt.legend(loc=2)\n",
    "plt.axis([44, 46, 4, 7])"
   ]
  },
  {
   "cell_type": "code",
   "execution_count": 11,
   "metadata": {},
   "outputs": [
    {
     "data": {
      "text/plain": [
       "(50, 51.25, 50.6)"
      ]
     },
     "execution_count": 11,
     "metadata": {},
     "output_type": "execute_result"
    }
   ],
   "source": [
    "45 + 5, 45 + 6.25, 45.6 + 5"
   ]
  },
  {
   "cell_type": "markdown",
   "metadata": {},
   "source": [
    "De acuerdo a la solución gráfica, debemos producir:\n",
    "\n",
    "- 45 unidades de $X_1$, y\n",
    "- 6.25 unidades de $X_2$.\n"
   ]
  },
  {
   "cell_type": "markdown",
   "metadata": {},
   "source": [
    "## 5. ¿Cómo se resuelve en python?\n",
    "\n",
    "### 5.1 Librería `SciPy`\n",
    "\n",
    "<img style=\"float: right; margin: 0px 0px 15px 15px;\" src=\"https://scipy.org/_static/images/scipy_med.png\" width=\"200px\" height=\"75px\" />\n",
    "\n",
    "`SciPy` es un software de código abierto basado en `Python` para matemáticas, ciencia e ingeniería. \n",
    "\n",
    "En particular, los siguientes son algunos de los paquetes básicos:\n",
    "- `NumPy`\n",
    "- **Librería `SciPy`**\n",
    "- `SymPy`\n",
    "- `matplotlib`\n",
    "- `pandas`\n",
    "\n",
    "La **Librería `SciPy`** es uno de los paquetes principales y provee varias rutinas numéricas eficientes. Entre ellas, para integración numérica y optimización.\n",
    "\n",
    "En esta clase, y en lo que resta del módulo, estaremos utilizando el módulo `optimize` de la librería `SciPy`.\n",
    "\n",
    "**Importémoslo**"
   ]
  },
  {
   "cell_type": "code",
   "execution_count": 5,
   "metadata": {},
   "outputs": [],
   "source": [
    "# Importar el módulo optimize de la librería scipy\n",
    "# import scipy.optimize as opt\n",
    "from scipy import optimize as opt"
   ]
  },
  {
   "cell_type": "markdown",
   "metadata": {},
   "source": [
    "El módulo `optimize` que acabamos de importar contiene varias funciones para optimización y búsqueda de raices ($f(x)=0$). Entre ellas se encuentra la función `linprog`"
   ]
  },
  {
   "cell_type": "code",
   "execution_count": 6,
   "metadata": {},
   "outputs": [
    {
     "name": "stdout",
     "output_type": "stream",
     "text": [
      "Help on function linprog in module scipy.optimize._linprog:\n",
      "\n",
      "linprog(c, A_ub=None, b_ub=None, A_eq=None, b_eq=None, bounds=None, method='interior-point', callback=None, options=None, x0=None)\n",
      "    Linear programming: minimize a linear objective function subject to linear\n",
      "    equality and inequality constraints.\n",
      "    \n",
      "    Linear programming solves problems of the following form:\n",
      "    \n",
      "    .. math::\n",
      "    \n",
      "        \\min_x \\ & c^T x \\\\\n",
      "        \\mbox{such that} \\ & A_{ub} x \\leq b_{ub},\\\\\n",
      "        & A_{eq} x = b_{eq},\\\\\n",
      "        & l \\leq x \\leq u ,\n",
      "    \n",
      "    where :math:`x` is a vector of decision variables; :math:`c`,\n",
      "    :math:`b_{ub}`, :math:`b_{eq}`, :math:`l`, and :math:`u` are vectors; and\n",
      "    :math:`A_{ub}` and :math:`A_{eq}` are matrices.\n",
      "    \n",
      "    Informally, that's:\n",
      "    \n",
      "    minimize::\n",
      "    \n",
      "        c @ x\n",
      "    \n",
      "    such that::\n",
      "    \n",
      "        A_ub @ x <= b_ub\n",
      "        A_eq @ x == b_eq\n",
      "        lb <= x <= ub\n",
      "    \n",
      "    Note that by default ``lb = 0`` and ``ub = None`` unless specified with\n",
      "    ``bounds``.\n",
      "    \n",
      "    Parameters\n",
      "    ----------\n",
      "    c : 1D array\n",
      "        The coefficients of the linear objective function to be minimized.\n",
      "    A_ub : 2D array, optional\n",
      "        The inequality constraint matrix. Each row of ``A_ub`` specifies the\n",
      "        coefficients of a linear inequality constraint on ``x``.\n",
      "    b_ub : 1D array, optional\n",
      "        The inequality constraint vector. Each element represents an\n",
      "        upper bound on the corresponding value of ``A_ub @ x``.\n",
      "    A_eq : 2D array, optional\n",
      "        The equality constraint matrix. Each row of ``A_eq`` specifies the\n",
      "        coefficients of a linear equality constraint on ``x``.\n",
      "    b_eq : 1D array, optional\n",
      "        The equality constraint vector. Each element of ``A_eq @ x`` must equal\n",
      "        the corresponding element of ``b_eq``.\n",
      "    bounds : sequence, optional\n",
      "        A sequence of ``(min, max)`` pairs for each element in ``x``, defining\n",
      "        the minimum and maximum values of that decision variable. Use ``None`` to\n",
      "        indicate that there is no bound. By default, bounds are ``(0, None)``\n",
      "        (all decision variables are non-negative).\n",
      "        If a single tuple ``(min, max)`` is provided, then ``min`` and\n",
      "        ``max`` will serve as bounds for all decision variables.\n",
      "    method : {'interior-point', 'revised simplex', 'simplex'}, optional\n",
      "        The algorithm used to solve the standard form problem.\n",
      "        :ref:`'interior-point' <optimize.linprog-interior-point>` (default),\n",
      "        :ref:`'revised simplex' <optimize.linprog-revised_simplex>`, and\n",
      "        :ref:`'simplex' <optimize.linprog-simplex>` (legacy)\n",
      "        are supported.\n",
      "    callback : callable, optional\n",
      "        If a callback function is provided, it will be called at least once per\n",
      "        iteration of the algorithm. The callback function must accept a single\n",
      "        `scipy.optimize.OptimizeResult` consisting of the following fields:\n",
      "    \n",
      "            x : 1D array\n",
      "                The current solution vector.\n",
      "            fun : float\n",
      "                The current value of the objective function ``c @ x``.\n",
      "            success : bool\n",
      "                ``True`` when the algorithm has completed successfully.\n",
      "            slack : 1D array\n",
      "                The (nominally positive) values of the slack,\n",
      "                ``b_ub - A_ub @ x``.\n",
      "            con : 1D array\n",
      "                The (nominally zero) residuals of the equality constraints,\n",
      "                ``b_eq - A_eq @ x``.\n",
      "            phase : int\n",
      "                The phase of the algorithm being executed.\n",
      "            status : int\n",
      "                An integer representing the status of the algorithm.\n",
      "    \n",
      "                ``0`` : Optimization proceeding nominally.\n",
      "    \n",
      "                ``1`` : Iteration limit reached.\n",
      "    \n",
      "                ``2`` : Problem appears to be infeasible.\n",
      "    \n",
      "                ``3`` : Problem appears to be unbounded.\n",
      "    \n",
      "                ``4`` : Numerical difficulties encountered.\n",
      "    \n",
      "            nit : int\n",
      "                The current iteration number.\n",
      "            message : str\n",
      "                A string descriptor of the algorithm status.\n",
      "    \n",
      "    options : dict, optional\n",
      "        A dictionary of solver options. All methods accept the following\n",
      "        options:\n",
      "    \n",
      "            maxiter : int\n",
      "                Maximum number of iterations to perform.\n",
      "                Default: see method-specific documentation.\n",
      "            disp : bool\n",
      "                Set to ``True`` to print convergence messages.\n",
      "                Default: ``False``.\n",
      "            autoscale : bool\n",
      "                Set to ``True`` to automatically perform equilibration.\n",
      "                Consider using this option if the numerical values in the\n",
      "                constraints are separated by several orders of magnitude.\n",
      "                Default: ``False``.\n",
      "            presolve : bool\n",
      "                Set to ``False`` to disable automatic presolve.\n",
      "                Default: ``True``.\n",
      "            rr : bool\n",
      "                Set to ``False`` to disable automatic redundancy removal.\n",
      "                Default: ``True``.\n",
      "    \n",
      "        For method-specific options, see\n",
      "        :func:`show_options('linprog') <show_options>`.\n",
      "    \n",
      "    x0 : 1D array, optional\n",
      "        Guess values of the decision variables, which will be refined by\n",
      "        the optimization algorithm. This argument is currently used only by the\n",
      "        'revised simplex' method, and can only be used if `x0` represents a\n",
      "        basic feasible solution.\n",
      "    \n",
      "    \n",
      "    Returns\n",
      "    -------\n",
      "    res : OptimizeResult\n",
      "        A :class:`scipy.optimize.OptimizeResult` consisting of the fields:\n",
      "    \n",
      "            x : 1D array\n",
      "                The values of the decision variables that minimizes the\n",
      "                objective function while satisfying the constraints.\n",
      "            fun : float\n",
      "                The optimal value of the objective function ``c @ x``.\n",
      "            slack : 1D array\n",
      "                The (nominally positive) values of the slack variables,\n",
      "                ``b_ub - A_ub @ x``.\n",
      "            con : 1D array\n",
      "                The (nominally zero) residuals of the equality constraints,\n",
      "                ``b_eq - A_eq @ x``.\n",
      "            success : bool\n",
      "                ``True`` when the algorithm succeeds in finding an optimal\n",
      "                solution.\n",
      "            status : int\n",
      "                An integer representing the exit status of the algorithm.\n",
      "    \n",
      "                ``0`` : Optimization terminated successfully.\n",
      "    \n",
      "                ``1`` : Iteration limit reached.\n",
      "    \n",
      "                ``2`` : Problem appears to be infeasible.\n",
      "    \n",
      "                ``3`` : Problem appears to be unbounded.\n",
      "    \n",
      "                ``4`` : Numerical difficulties encountered.\n",
      "    \n",
      "            nit : int\n",
      "                The total number of iterations performed in all phases.\n",
      "            message : str\n",
      "                A string descriptor of the exit status of the algorithm.\n",
      "    \n",
      "    See Also\n",
      "    --------\n",
      "    show_options : Additional options accepted by the solvers.\n",
      "    \n",
      "    Notes\n",
      "    -----\n",
      "    This section describes the available solvers that can be selected by the\n",
      "    'method' parameter.\n",
      "    \n",
      "    :ref:`'interior-point' <optimize.linprog-interior-point>` is the default\n",
      "    as it is typically the fastest and most robust method.\n",
      "    :ref:`'revised simplex' <optimize.linprog-revised_simplex>` is more\n",
      "    accurate for the problems it solves.\n",
      "    :ref:`'simplex' <optimize.linprog-simplex>` is the legacy method and is\n",
      "    included for backwards compatibility and educational purposes.\n",
      "    \n",
      "    Method *interior-point* uses the primal-dual path following algorithm\n",
      "    as outlined in [4]_. This algorithm supports sparse constraint matrices and\n",
      "    is typically faster than the simplex methods, especially for large, sparse\n",
      "    problems. Note, however, that the solution returned may be slightly less\n",
      "    accurate than those of the simplex methods and will not, in general,\n",
      "    correspond with a vertex of the polytope defined by the constraints.\n",
      "    \n",
      "    .. versionadded:: 1.0.0\n",
      "    \n",
      "    Method *revised simplex* uses the revised simplex method as described in\n",
      "    [9]_, except that a factorization [11]_ of the basis matrix, rather than\n",
      "    its inverse, is efficiently maintained and used to solve the linear systems\n",
      "    at each iteration of the algorithm.\n",
      "    \n",
      "    .. versionadded:: 1.3.0\n",
      "    \n",
      "    Method *simplex* uses a traditional, full-tableau implementation of\n",
      "    Dantzig's simplex algorithm [1]_, [2]_ (*not* the\n",
      "    Nelder-Mead simplex). This algorithm is included for backwards\n",
      "    compatibility and educational purposes.\n",
      "    \n",
      "    .. versionadded:: 0.15.0\n",
      "    \n",
      "    Before applying any method, a presolve procedure based on [8]_ attempts\n",
      "    to identify trivial infeasibilities, trivial unboundedness, and potential\n",
      "    problem simplifications. Specifically, it checks for:\n",
      "    \n",
      "    - rows of zeros in ``A_eq`` or ``A_ub``, representing trivial constraints;\n",
      "    - columns of zeros in ``A_eq`` `and` ``A_ub``, representing unconstrained\n",
      "      variables;\n",
      "    - column singletons in ``A_eq``, representing fixed variables; and\n",
      "    - column singletons in ``A_ub``, representing simple bounds.\n",
      "    \n",
      "    If presolve reveals that the problem is unbounded (e.g. an unconstrained\n",
      "    and unbounded variable has negative cost) or infeasible (e.g. a row of\n",
      "    zeros in ``A_eq`` corresponds with a nonzero in ``b_eq``), the solver\n",
      "    terminates with the appropriate status code. Note that presolve terminates\n",
      "    as soon as any sign of unboundedness is detected; consequently, a problem\n",
      "    may be reported as unbounded when in reality the problem is infeasible\n",
      "    (but infeasibility has not been detected yet). Therefore, if it is\n",
      "    important to know whether the problem is actually infeasible, solve the\n",
      "    problem again with option ``presolve=False``.\n",
      "    \n",
      "    If neither infeasibility nor unboundedness are detected in a single pass\n",
      "    of the presolve, bounds are tightened where possible and fixed\n",
      "    variables are removed from the problem. Then, linearly dependent rows\n",
      "    of the ``A_eq`` matrix are removed, (unless they represent an\n",
      "    infeasibility) to avoid numerical difficulties in the primary solve\n",
      "    routine. Note that rows that are nearly linearly dependent (within a\n",
      "    prescribed tolerance) may also be removed, which can change the optimal\n",
      "    solution in rare cases. If this is a concern, eliminate redundancy from\n",
      "    your problem formulation and run with option ``rr=False`` or\n",
      "    ``presolve=False``.\n",
      "    \n",
      "    Several potential improvements can be made here: additional presolve\n",
      "    checks outlined in [8]_ should be implemented, the presolve routine should\n",
      "    be run multiple times (until no further simplifications can be made), and\n",
      "    more of the efficiency improvements from [5]_ should be implemented in the\n",
      "    redundancy removal routines.\n",
      "    \n",
      "    After presolve, the problem is transformed to standard form by converting\n",
      "    the (tightened) simple bounds to upper bound constraints, introducing\n",
      "    non-negative slack variables for inequality constraints, and expressing\n",
      "    unbounded variables as the difference between two non-negative variables.\n",
      "    Optionally, the problem is automatically scaled via equilibration [12]_.\n",
      "    The selected algorithm solves the standard form problem, and a\n",
      "    postprocessing routine converts the result to a solution to the original\n",
      "    problem.\n",
      "    \n",
      "    References\n",
      "    ----------\n",
      "    .. [1] Dantzig, George B., Linear programming and extensions. Rand\n",
      "           Corporation Research Study Princeton Univ. Press, Princeton, NJ,\n",
      "           1963\n",
      "    .. [2] Hillier, S.H. and Lieberman, G.J. (1995), \"Introduction to\n",
      "           Mathematical Programming\", McGraw-Hill, Chapter 4.\n",
      "    .. [3] Bland, Robert G. New finite pivoting rules for the simplex method.\n",
      "           Mathematics of Operations Research (2), 1977: pp. 103-107.\n",
      "    .. [4] Andersen, Erling D., and Knud D. Andersen. \"The MOSEK interior point\n",
      "           optimizer for linear programming: an implementation of the\n",
      "           homogeneous algorithm.\" High performance optimization. Springer US,\n",
      "           2000. 197-232.\n",
      "    .. [5] Andersen, Erling D. \"Finding all linearly dependent rows in\n",
      "           large-scale linear programming.\" Optimization Methods and Software\n",
      "           6.3 (1995): 219-227.\n",
      "    .. [6] Freund, Robert M. \"Primal-Dual Interior-Point Methods for Linear\n",
      "           Programming based on Newton's Method.\" Unpublished Course Notes,\n",
      "           March 2004. Available 2/25/2017 at\n",
      "           https://ocw.mit.edu/courses/sloan-school-of-management/15-084j-nonlinear-programming-spring-2004/lecture-notes/lec14_int_pt_mthd.pdf\n",
      "    .. [7] Fourer, Robert. \"Solving Linear Programs by Interior-Point Methods.\"\n",
      "           Unpublished Course Notes, August 26, 2005. Available 2/25/2017 at\n",
      "           http://www.4er.org/CourseNotes/Book%20B/B-III.pdf\n",
      "    .. [8] Andersen, Erling D., and Knud D. Andersen. \"Presolving in linear\n",
      "           programming.\" Mathematical Programming 71.2 (1995): 221-245.\n",
      "    .. [9] Bertsimas, Dimitris, and J. Tsitsiklis. \"Introduction to linear\n",
      "           programming.\" Athena Scientific 1 (1997): 997.\n",
      "    .. [10] Andersen, Erling D., et al. Implementation of interior point\n",
      "            methods for large scale linear programming. HEC/Universite de\n",
      "            Geneve, 1996.\n",
      "    .. [11] Bartels, Richard H. \"A stabilization of the simplex method.\"\n",
      "            Journal in  Numerische Mathematik 16.5 (1971): 414-434.\n",
      "    .. [12] Tomlin, J. A. \"On scaling linear programming problems.\"\n",
      "            Mathematical Programming Study 4 (1975): 146-166.\n",
      "    \n",
      "    Examples\n",
      "    --------\n",
      "    Consider the following problem:\n",
      "    \n",
      "    .. math::\n",
      "    \n",
      "        \\min_{x_0, x_1} \\ -x_0 + 4x_1 & \\\\\n",
      "        \\mbox{such that} \\ -3x_0 + x_1 & \\leq 6,\\\\\n",
      "        -x_0 - 2x_1 & \\geq -4,\\\\\n",
      "        x_1 & \\geq -3.\n",
      "    \n",
      "    The problem is not presented in the form accepted by `linprog`. This is\n",
      "    easily remedied by converting the \"greater than\" inequality\n",
      "    constraint to a \"less than\" inequality constraint by\n",
      "    multiplying both sides by a factor of :math:`-1`. Note also that the last\n",
      "    constraint is really the simple bound :math:`-3 \\leq x_1 \\leq \\infty`.\n",
      "    Finally, since there are no bounds on :math:`x_0`, we must explicitly\n",
      "    specify the bounds :math:`-\\infty \\leq x_0 \\leq \\infty`, as the\n",
      "    default is for variables to be non-negative. After collecting coeffecients\n",
      "    into arrays and tuples, the input for this problem is:\n",
      "    \n",
      "    >>> c = [-1, 4]\n",
      "    >>> A = [[-3, 1], [1, 2]]\n",
      "    >>> b = [6, 4]\n",
      "    >>> x0_bounds = (None, None)\n",
      "    >>> x1_bounds = (-3, None)\n",
      "    >>> from scipy.optimize import linprog\n",
      "    >>> res = linprog(c, A_ub=A, b_ub=b, bounds=[x0_bounds, x1_bounds])\n",
      "    \n",
      "    Note that the default method for `linprog` is 'interior-point', which is\n",
      "    approximate by nature.\n",
      "    \n",
      "    >>> print(res)\n",
      "         con: array([], dtype=float64)\n",
      "         fun: -21.99999984082494 # may vary\n",
      "     message: 'Optimization terminated successfully.'\n",
      "         nit: 6 # may vary\n",
      "       slack: array([3.89999997e+01, 8.46872439e-08] # may vary\n",
      "      status: 0\n",
      "     success: True\n",
      "           x: array([ 9.99999989, -2.99999999]) # may vary\n",
      "    \n",
      "    If you need greater accuracy, try 'revised simplex'.\n",
      "    \n",
      "    >>> res = linprog(c, A_ub=A, b_ub=b, bounds=[x0_bounds, x1_bounds], method='revised simplex')\n",
      "    >>> print(res)\n",
      "         con: array([], dtype=float64)\n",
      "         fun: -22.0 # may vary\n",
      "     message: 'Optimization terminated successfully.'\n",
      "         nit: 1 # may vary\n",
      "       slack: array([39.,  0.]) # may vary\n",
      "      status: 0\n",
      "     success: True\n",
      "           x: array([10., -3.]) # may vary\n",
      "\n"
     ]
    }
   ],
   "source": [
    "# Función linprog del módulo optimize\n",
    "help(opt.linprog)"
   ]
  },
  {
   "cell_type": "markdown",
   "metadata": {},
   "source": [
    "\\begin{align}\n",
    "\\min_x \\ & c^T x \\\\\n",
    "\\mbox{such that} \\ & A_{ub} x \\leq b_{ub},\\\\\n",
    "        & A_{eq} x = b_{eq},\\\\\n",
    "        & l \\leq x \\leq u ,\n",
    "\\end{align}"
   ]
  },
  {
   "cell_type": "markdown",
   "metadata": {},
   "source": [
    "la cual resuelve problemas como los que aprendimos a plantear."
   ]
  },
  {
   "cell_type": "markdown",
   "metadata": {},
   "source": [
    "### 5.2 Solución del ejemplo básico con linprog\n",
    "Ya hicimos la solución gráfica. Contrastemos con la solución que nos da `linprog`...\n",
    "\n",
    "- $\\boldsymbol{c}=\\left[-1 \\quad -1\\right]^T$,\n",
    "- $\\boldsymbol{A}=\\left[\\begin{array}{cc}50 & 24 \\\\ 30 & 33\\\\ -1 & 0\\\\ 0 & -1\\end{array}\\right]$, y\n",
    "- $\\boldsymbol{b}=\\left[2400\\quad 2100\\quad -45\\quad -5\\right]^T$."
   ]
  },
  {
   "cell_type": "code",
   "execution_count": 7,
   "metadata": {},
   "outputs": [],
   "source": [
    "# Importar numpy para crear las matrices\n",
    "import numpy as np"
   ]
  },
  {
   "cell_type": "code",
   "execution_count": 25,
   "metadata": {},
   "outputs": [],
   "source": [
    "# Crear las matrices para resolver el problema\n",
    "c = np.array([-1, -1])\n",
    "A_ineq = np.array([[50, 24],\n",
    "              [30, 33],\n",
    "              [-1,  0],\n",
    "              [0,  -1]])\n",
    "b_ineq = np.array([2400, 2100, -45, -5])"
   ]
  },
  {
   "cell_type": "code",
   "execution_count": 26,
   "metadata": {},
   "outputs": [
    {
     "data": {
      "text/plain": [
       "(array([-1, -1]),\n",
       " array([[50, 24],\n",
       "        [30, 33],\n",
       "        [-1,  0],\n",
       "        [ 0, -1]]),\n",
       " array([2400, 2100,  -45,   -5]))"
      ]
     },
     "execution_count": 26,
     "metadata": {},
     "output_type": "execute_result"
    }
   ],
   "source": [
    "c, A_ineq, b_ineq"
   ]
  },
  {
   "cell_type": "code",
   "execution_count": 27,
   "metadata": {},
   "outputs": [],
   "source": [
    "# Resolver utilizando linprog\n",
    "solucion = opt.linprog(c=c, A_ub=A_ineq, b_ub=b_ineq)"
   ]
  },
  {
   "cell_type": "code",
   "execution_count": 28,
   "metadata": {},
   "outputs": [
    {
     "data": {
      "text/plain": [
       "     con: array([], dtype=float64)\n",
       "     fun: -51.249999998664535\n",
       " message: 'Optimization terminated successfully.'\n",
       "     nit: 8\n",
       "   slack: array([1.43763828e-08, 5.43750000e+02, 6.79790446e-10, 1.25000000e+00])\n",
       "  status: 0\n",
       " success: True\n",
       "       x: array([45.  ,  6.25])"
      ]
     },
     "execution_count": 28,
     "metadata": {},
     "output_type": "execute_result"
    }
   ],
   "source": [
    "# Mostrar el resultado\n",
    "solucion"
   ]
  },
  {
   "cell_type": "code",
   "execution_count": 29,
   "metadata": {},
   "outputs": [
    {
     "data": {
      "text/plain": [
       "array([45.  ,  6.25])"
      ]
     },
     "execution_count": 29,
     "metadata": {},
     "output_type": "execute_result"
    }
   ],
   "source": [
    "# Extraer el vector solución\n",
    "solucion.x"
   ]
  },
  {
   "cell_type": "markdown",
   "metadata": {},
   "source": [
    "**Conclusión**\n",
    "- 45 unidades de $X_1$, y\n",
    "- 6.25 unidades de $X_2$."
   ]
  },
  {
   "cell_type": "markdown",
   "metadata": {},
   "source": [
    "**Otra forma:** poner las cotas de las variables a parte"
   ]
  },
  {
   "cell_type": "code",
   "execution_count": 31,
   "metadata": {},
   "outputs": [],
   "source": [
    "# Escribir matrices y cotas\n",
    "c = np.array([-1, -1])\n",
    "A_ineq = np.array([[50, 24],\n",
    "                   [30, 33]])\n",
    "b_ineq = np.array([2400, 2100])\n",
    "# Cotas\n",
    "bnds = ((45, None),  # cotas para x1: 45 <= x1 <= infinto\n",
    "        (5, None))   # cotas para x2: 5 <= x2 <= infinto"
   ]
  },
  {
   "cell_type": "code",
   "execution_count": 32,
   "metadata": {},
   "outputs": [],
   "source": [
    "# Resolver\n",
    "solucion2 = opt.linprog(c=c, A_ub=A_ineq, b_ub=b_ineq, bounds=bnds)"
   ]
  },
  {
   "cell_type": "code",
   "execution_count": 33,
   "metadata": {},
   "outputs": [
    {
     "data": {
      "text/plain": [
       "     con: array([], dtype=float64)\n",
       "     fun: -51.249999998664535\n",
       " message: 'Optimization terminated successfully.'\n",
       "     nit: 8\n",
       "   slack: array([1.43763828e-08, 5.43750000e+02])\n",
       "  status: 0\n",
       " success: True\n",
       "       x: array([45.  ,  6.25])"
      ]
     },
     "execution_count": 33,
     "metadata": {},
     "output_type": "execute_result"
    }
   ],
   "source": [
    "# Mostrar el resultado\n",
    "solucion2"
   ]
  },
  {
   "cell_type": "markdown",
   "metadata": {},
   "source": [
    "**Actividad.** Mónica hace aretes y cadenitas de joyería. Es tan buena, que todo lo que hace lo vende.\n",
    "\n",
    "Le toma 30 minutos hacer un par de aretes y una hora hacer una cadenita, y como Mónica también es estudihambre, solo dispone de 10 horas a la semana para hacer las joyas. Por otra parte, el material que compra solo le alcanza para hacer 15 unidades (el par de aretes cuenta como unidad) de joyas por semana.\n",
    "\n",
    "La utilidad que le deja la venta de las joyas es $\\$15$ en cada par de aretes y $\\$20$ en cada cadenita.\n",
    "\n",
    "¿Cuántos pares de aretes y cuántas cadenitas debería hacer Mónica para maximizar su utilidad?\n",
    "\n",
    "Formular el problema en la forma explicada y obtener la solución gráfica (puede ser a mano).\n",
    "\n",
    "**Punto adicional, para el primer equipo que lo resuelva...**"
   ]
  },
  {
   "cell_type": "code",
   "execution_count": 21,
   "metadata": {},
   "outputs": [],
   "source": [
    "from scipy import optimize as opt\n",
    "import numpy as np"
   ]
  },
  {
   "cell_type": "code",
   "execution_count": 22,
   "metadata": {},
   "outputs": [],
   "source": [
    "c = np.array([-15, -20])\n",
    "A_ineq = np.array([[0.25, 0.75],\n",
    "              [1, 1],\n",
    "              [-1,  0],\n",
    "              [0,  -1]])\n",
    "b_ineq = np.array([8, 20, 0, 0])"
   ]
  },
  {
   "cell_type": "code",
   "execution_count": 23,
   "metadata": {},
   "outputs": [
    {
     "data": {
      "text/plain": [
       "(array([-15, -20]),\n",
       " array([[ 0.25,  0.75],\n",
       "        [ 1.  ,  1.  ],\n",
       "        [-1.  ,  0.  ],\n",
       "        [ 0.  , -1.  ]]),\n",
       " array([ 8, 20,  0,  0]))"
      ]
     },
     "execution_count": 23,
     "metadata": {},
     "output_type": "execute_result"
    }
   ],
   "source": [
    "c, A_ineq, b_ineq"
   ]
  },
  {
   "cell_type": "code",
   "execution_count": 24,
   "metadata": {},
   "outputs": [],
   "source": [
    "solucion = opt.linprog(c=c, A_ub=A_ineq, b_ub=b_ineq)"
   ]
  },
  {
   "cell_type": "code",
   "execution_count": 25,
   "metadata": {},
   "outputs": [
    {
     "data": {
      "text/plain": [
       "array([14.,  6.])"
      ]
     },
     "execution_count": 25,
     "metadata": {},
     "output_type": "execute_result"
    }
   ],
   "source": [
    "solucion.x\n"
   ]
  },
  {
   "cell_type": "markdown",
   "metadata": {},
   "source": [
    "## 6. Problema de transporte 1\n",
    "- **Referencia**: https://es.wikipedia.org/wiki/Programaci%C3%B3n_lineal\n",
    "\n",
    "<img style=\"float: right; margin: 0px 0px 15px 15px;\" src=\"https://upload.wikimedia.org/wikipedia/commons/a/a0/Progr_Lineal.PNG\" width=\"400px\" height=\"125px\" />\n",
    "\n",
    "Este es un caso curioso, con solo 6 variables (un caso real de problema de transporte puede tener fácilmente más de 1.000 variables) en el cual se aprecia la utilidad de este procedimiento de cálculo.\n",
    "\n",
    "Existen tres minas de carbón cuya producción diaria es:\n",
    "- la mina \"a\" produce 40 toneladas de carbón por día;\n",
    "- la mina \"b\" produce 40 t/día; y,\n",
    "- la mina \"c\" produce 20 t/día.\n",
    "\n",
    "En la zona hay dos centrales termoeléctricas que consumen:\n",
    "- la central \"d\" consume 40 t/día de carbón; y,\n",
    "- la central \"e\" consume 60 t/día.\n",
    "\n",
    "Los costos de mercado, de transporte por tonelada son:\n",
    "- de \"a\" a \"d\" = 2 monedas;\n",
    "- de \"a\" a \"e\" = 11 monedas;\n",
    "- de \"b\" a \"d\" = 12 monedas;\n",
    "- de \"b\" a \"e\" = 24 monedas;\n",
    "- de \"c\" a \"d\" = 13 monedas; y,\n",
    "- de \"c\" a \"e\" = 18 monedas.\n",
    "\n",
    "Si se preguntase a los pobladores de la zona cómo organizar el transporte, tal vez la mayoría opinaría que debe aprovecharse el precio ofrecido por el transportista que va de \"a\" a \"d\", porque es más conveniente que los otros, debido a que es el de más bajo precio.\n",
    "\n",
    "En este caso, el costo total del transporte es:\n",
    "- transporte de 40 t de \"a\" a \"d\" = 80 monedas;\n",
    "- transporte de 20 t de \"c\" a \"e\" = 360 monedas; y,\n",
    "- transporte de 40 t de \"b\" a \"e\" = 960 monedas,\n",
    "    \n",
    "Para un total 1.400 monedas.\n",
    "\n",
    "Sin embargo, formulando el problema para ser resuelto por la programación lineal con\n",
    "- $x_1$ toneladas transportadas de la mina \"a\" a la central \"d\"\n",
    "- $x_2$ toneladas transportadas de la mina \"a\" a la central \"e\"\n",
    "- $x_3$ toneladas transportadas de la mina \"b\" a la central \"d\"\n",
    "- $x_4$ toneladas transportadas de la mina \"b\" a la central \"e\"\n",
    "- $x_5$ toneladas transportadas de la mina \"c\" a la central \"d\"\n",
    "- $x_6$ toneladas transportadas de la mina \"c\" a la central \"e\"\n",
    "\n",
    "se tienen las siguientes ecuaciones:\n",
    "\n",
    "Restricciones de la producción:\n",
    "\n",
    "- $x_1 + x_2 \\leq 40$\n",
    "- $x_3 + x_4 \\leq 40$\n",
    "- $x_5 + x_6 \\leq 20$\n",
    "\n",
    "Restricciones del consumo:\n",
    "\n",
    "- $x_1 + x_3 + x_5 \\geq 40$\n",
    "- $x_2 + x_4 + x_6 \\geq 60$\n",
    "\n",
    "La función objetivo será:\n",
    "\n",
    "$$\\min_{x_1,\\dots,x_6}2x_1 + 11x_2 + 12x_3 + 24x_4 + 13x_5 + 18x_6$$\n",
    "\n",
    "Resolver con `linprog`"
   ]
  },
  {
   "cell_type": "code",
   "execution_count": 37,
   "metadata": {},
   "outputs": [],
   "source": [
    "# Matrices y cotas\n",
    "c = np.array([2, 11, 12, 24, 13, 18])\n",
    "A_ineq = np.array([[1, 1, 0, 0, 0, 0],\n",
    "                   [0, 0, 1, 1, 0, 0],\n",
    "                   [0, 0, 0, 0, 1, 1],\n",
    "                   [-1, 0, -1, 0, -1, 0],\n",
    "                   [0, -1, 0, -1, 0, -1]])\n",
    "b_ineq = np.array([40, 40 ,20 , -40, -60])\n",
    "# bnds = ((0, None), (0, None), (0, None), (0, None), (0, None), (0, None))\n",
    "bnds = ((0, None),) * 6"
   ]
  },
  {
   "cell_type": "code",
   "execution_count": 38,
   "metadata": {},
   "outputs": [],
   "source": [
    "# Resolver\n",
    "solucion = opt.linprog(c=c, A_ub=A_ineq, b_ub=b_ineq, bounds=bnds)"
   ]
  },
  {
   "cell_type": "code",
   "execution_count": 44,
   "metadata": {},
   "outputs": [
    {
     "data": {
      "text/plain": [
       "     con: array([], dtype=float64)\n",
       "     fun: 1279.999999830141\n",
       " message: 'Optimization terminated successfully.'\n",
       "     nit: 5\n",
       "   slack: array([ 5.41090373e-09,  5.60606850e-09,  2.64986610e-09, -5.41140821e-09,\n",
       "       -8.25542656e-09])\n",
       "  status: 0\n",
       " success: True\n",
       "       x: array([1.85251940e-09, 4.00000000e+01, 4.00000000e+01, 1.85923309e-09,\n",
       "       2.01371561e-10, 2.00000000e+01])"
      ]
     },
     "execution_count": 44,
     "metadata": {},
     "output_type": "execute_result"
    }
   ],
   "source": [
    "opt.linprog(c=c, A_ub=A_ineq, b_ub=b_ineq)"
   ]
  },
  {
   "cell_type": "code",
   "execution_count": 43,
   "metadata": {},
   "outputs": [
    {
     "data": {
      "text/plain": [
       "     con: array([], dtype=float64)\n",
       "     fun: 1279.999999830141\n",
       " message: 'Optimization terminated successfully.'\n",
       "     nit: 5\n",
       "   slack: array([ 5.41090373e-09,  5.60606850e-09,  2.64986610e-09, -5.41140821e-09,\n",
       "       -8.25542656e-09])\n",
       "  status: 0\n",
       " success: True\n",
       "       x: array([1.85251940e-09, 4.00000000e+01, 4.00000000e+01, 1.85923309e-09,\n",
       "       2.01371561e-10, 2.00000000e+01])"
      ]
     },
     "execution_count": 43,
     "metadata": {},
     "output_type": "execute_result"
    }
   ],
   "source": [
    "solucion"
   ]
  },
  {
   "cell_type": "code",
   "execution_count": 54,
   "metadata": {},
   "outputs": [
    {
     "data": {
      "text/plain": [
       "array([ 0., 40., 40.,  0.,  0., 20.])"
      ]
     },
     "execution_count": 54,
     "metadata": {},
     "output_type": "execute_result"
    }
   ],
   "source": [
    "# Mostrar resultado\n",
    "x_min = solucion.x\n",
    "np.round(x_min)"
   ]
  },
  {
   "cell_type": "code",
   "execution_count": 52,
   "metadata": {},
   "outputs": [
    {
     "data": {
      "text/plain": [
       "1279.999999830141"
      ]
     },
     "execution_count": 52,
     "metadata": {},
     "output_type": "execute_result"
    }
   ],
   "source": [
    "c.T.dot(x_min)"
   ]
  },
  {
   "cell_type": "code",
   "execution_count": 41,
   "metadata": {},
   "outputs": [
    {
     "data": {
      "text/plain": [
       "1279.999999830141"
      ]
     },
     "execution_count": 41,
     "metadata": {},
     "output_type": "execute_result"
    }
   ],
   "source": [
    "solucion.fun"
   ]
  },
  {
   "cell_type": "markdown",
   "metadata": {
    "collapsed": true
   },
   "source": [
    "**Conclusión**\n",
    "\n",
    "- Se deben transportar 40 ton. de la mina \"a\" a la central \"e\" ($x_2$)\n",
    "- Se deben transportar 40 ton. de la mina \"b\" a la central \"d\" ($x_3$)\n",
    "- Se deben transportar 20 ton. de la mina \"c\" a la central \"e\" ($x_6$)"
   ]
  },
  {
   "cell_type": "markdown",
   "metadata": {},
   "source": [
    "## 7. Optimización de inversión en bonos\n",
    "\n",
    "**Referencia:**"
   ]
  },
  {
   "cell_type": "code",
   "execution_count": 1,
   "metadata": {},
   "outputs": [
    {
     "data": {
      "image/jpeg": "[encoded data removed]",
      "text/html": [
       "\n",
       "        <iframe\n",
       "            width=\"400\"\n",
       "            height=\"300\"\n",
       "            src=\"https://www.youtube.com/embed/gukxBus8lOs\"\n",
       "            frameborder=\"0\"\n",
       "            allowfullscreen\n",
       "        ></iframe>\n",
       "        "
      ],
      "text/plain": [
       "<IPython.lib.display.YouTubeVideo at 0x2aa62b6e130>"
      ]
     },
     "execution_count": 1,
     "metadata": {},
     "output_type": "execute_result"
    }
   ],
   "source": [
    "from IPython.display import YouTubeVideo\n",
    "YouTubeVideo('gukxBus8lOs')"
   ]
  },
  {
   "cell_type": "markdown",
   "metadata": {},
   "source": [
    "El objetivo de este problema es determinar la mejor estrategia de inversión, dados diferentes tipos de bono, la máxima cantidad que puede ser invertida en cada bono, el porcentaje de retorno y los años de madurez. También hay una cantidad fija de dinero disponible ($\\$750,000$). Por lo menos la mitad de este dinero debe ser invertido en bonos con 10 años o más para la madurez. Se puede invertir un máximo del $25\\%$ de esta cantidad en cada bono. Finalmente, hay otra restricción que no permite usar más de $35\\%$ en bonos de alto riesgo.\n",
    "\n",
    "Existen seis (6) opciones de inversión con las letras correspondientes $A_i$\n",
    "\n",
    "1. $A_1$:(Tasa de retorno=$8.65\\%$; Años para la madurez=11, Riesgo=Bajo)\n",
    "1. $A_2$:(Tasa de retorno=$9.50\\%$; Años para la madurez=10, Riesgo=Alto)\n",
    "1. $A_3$:(Tasa de retorno=$10.00\\%$; Años para la madurez=6, Riesgo=Alto)\n",
    "1. $A_4$:(Tasa de retorno=$8.75\\%$; Años para la madurez=10, Riesgo=Bajo)\n",
    "1. $A_5$:(Tasa de retorno=$9.25\\%$; Años para la madurez=7, Riesgo=Alto)\n",
    "1. $A_6$:(Tasa de retorno=$9.00\\%$; Años para la madurez=13, Riesgo=Bajo)\n",
    "\n",
    "Lo que se quiere entonces es maximizar el retorno que deja la inversión.\n",
    "\n",
    "Este problema puede ser resuelto con programación lineal. Formalmente, puede ser descrito como:\n",
    "\n",
    "$$\\max_{A_1,A_2,...,A_6}\\sum^{6}_{i=1} A_iR_i,$$\n",
    "\n",
    "donde $A_i$ representa la cantidad invertida en la opción, y $R_i$ representa la tasa de retorno respectiva."
   ]
  },
  {
   "cell_type": "markdown",
   "metadata": {},
   "source": [
    "Plantear restricciones..."
   ]
  },
  {
   "cell_type": "code",
   "execution_count": 26,
   "metadata": {},
   "outputs": [],
   "source": [
    "# Matrices y cotas\n",
    "# a1 + a3 + a5 < 262,500\n",
    "# a1 + a2 + a4 + a5 >= 375,000\n",
    "# a1 + a2 + a3 + a4 + a5 + a6 =< 750000\n",
    "\n",
    "c = np.array([0.0865,0.0950,0.10,0.0875,0.0925,0.090])\n",
    "A_ineq = np.array([[1, 0, 0, 0, 0, 0],\n",
    "                   [0, 1, 0, 0, 0, 0],\n",
    "                   [0, 0, 1, 0, 0, 0],\n",
    "                   [0, 0, 0, 1, 0, 0],\n",
    "                   [0, 0, 0, 0, 1, 0],\n",
    "                   [0, 0, 0, 0, 0, 1],\n",
    "                   [1, 1, 1, 1, 1, 1],\n",
    "                   [-1, -1, 0, -1, 0, -1],\n",
    "                   [0, 1, 1, 0, 1, 0]])\n",
    "b_ineq = np.array([182500, 182500 , 182500, 182500, 182500, 182500, 750000, -375000, 262500])\n",
    "# bnds = ((0, None), (0, None), (0, None), (0, None), (0, None), (0, None))\n",
    "bnds = ((0, None),) * 6\n"
   ]
  },
  {
   "cell_type": "code",
   "execution_count": 29,
   "metadata": {},
   "outputs": [],
   "source": [
    "# Resolver\n",
    "solucion = opt.linprog(c=c, A_ub=A_ineq, b_ub=b_ineq, bounds=bnds)"
   ]
  },
  {
   "cell_type": "code",
   "execution_count": 30,
   "metadata": {},
   "outputs": [
    {
     "data": {
      "text/plain": [
       "     con: array([], dtype=float64)\n",
       "     fun: 32655.000123592406\n",
       " message: 'Optimization terminated successfully.'\n",
       "     nit: 10\n",
       "   slack: array([1.43999249e-02, 1.82499996e+05, 1.82500000e+05, 7.29303053e-03,\n",
       "       1.82500000e+05, 1.72499983e+05, 3.75000000e+05, 2.74833292e-05,\n",
       "       2.62499995e+05])\n",
       "  status: 0\n",
       " success: True\n",
       "       x: array([1.82499986e+05, 4.33970225e-03, 1.99308214e-04, 1.82499993e+05,\n",
       "       1.17375818e-04, 1.00000174e+04])"
      ]
     },
     "execution_count": 30,
     "metadata": {},
     "output_type": "execute_result"
    }
   ],
   "source": [
    "# Mostrar resultado\n",
    "opt.linprog(c=c, A_ub=A_ineq, b_ub=b_ineq)"
   ]
  },
  {
   "cell_type": "markdown",
   "metadata": {},
   "source": [
    "Recordar que en el problema minimizamos $-\\sum^{6}_{i=1} A_iR_i$. El rendimiento obtenido es entonces:"
   ]
  },
  {
   "cell_type": "code",
   "execution_count": 33,
   "metadata": {},
   "outputs": [
    {
     "data": {
      "text/plain": [
       "array([182500.,      0.,      0., 182500.,      0.,  10000.])"
      ]
     },
     "execution_count": 33,
     "metadata": {},
     "output_type": "execute_result"
    }
   ],
   "source": [
    "x_min = solucion.x\n",
    "np.round(x_min)"
   ]
  },
  {
   "cell_type": "markdown",
   "metadata": {},
   "source": [
    "**Conclusión**\n",
    "\n",
    "- Con este problema logramos maximizar nuestra inversión en los bonos que teníamos disponibles, dadas las restricciones especificas que indicaba el problema pudimos sacar el máximo provecho a nuestro dinero, aunque sean las mismas tasas de retorno y sin cambiar estas fue posible encontrar una combinación para que invirtiendo una cierta cantidad de dinero en cada bono logramos sacar la mayor liquidez posible. Con este problema me di cuenta que con un razonamiento sencillo se puede hacer un cambio significativo en nuestro dinero. "
   ]
  },
  {
   "cell_type": "markdown",
   "metadata": {},
   "source": [
    "## 8. Tarea \n",
    "\n",
    "### 1. Diseño de la Dieta Óptima\n",
    "\n",
    "Se quiere producir comida para gatos de la manera más barata, no obstante se debe también asegurar que se cumplan los datos requeridos de analisis nutricional. Por lo que se quiere variar la cantidad de cada ingrediente para cumplir con los estandares nutricionales. Los requisitos que se tienen es que en 100 gramos, se deben tener por lo menos 8 gramos de proteína y 6 gramos de grasa. Así mismo, no se debe tener más de 2 gramos de fibra y 0.4 gramos de sal.  \n",
    "\n",
    "Los datos nutricionales se pueden obtener de la siguiente tabla:\n",
    "\n",
    "|Ingrediente|Proteína|Grasa|Fibra|Sal|\n",
    "|----|---- |---- |---- |---- |\n",
    "|Pollo|  10.0%|08.0%|00.1%|00.2%\n",
    "|Carne|  20.0%|10.0%|00.5%|00.5%\n",
    "|Cordero|15.0%|11.0%|00.5%|00.7%\n",
    "|Arroz|  00.0%|01.0%|10.0%|00.2%\n",
    "|Trigo|  04.0%|01.0%|15.0%|00.8%\n",
    "|Gel|    00.0%|00.0%|00.0%|00.0%\n",
    "\n",
    "Los costos de cada producto son:\n",
    "\n",
    "Ingrediente|Costo por gramo\n",
    ":----|----\n",
    "Pollo|$\\$$0.013\n",
    "Carne|$\\$$0.008\n",
    "Cordero|$\\$$0.010\n",
    "Arroz|$\\$$0.002\n",
    "Trigo|$\\$$0.005\n",
    "Gel|$\\$$0.001    \n",
    "\n",
    "Lo que se busca optimizar en este caso es la cantidad de productos que se debe utilizar en la comida de gato, para simplificar la notación se van a nombrar las siguientes variables: \n",
    "\n",
    "$x_1:$ Gramos de pollo  \n",
    "$x_2:$ Gramos de carne  \n",
    "$x_3:$ Gramos de cordero  \n",
    "$x_4:$ Gramos de arroz  \n",
    "$x_5:$ Gramos de trigo  \n",
    "$x_6:$ Gramos de gel  \n",
    "\n",
    "Con los datos, se puede plantear la función objetivo, está dada por la siguiente expresión:\n",
    "\n",
    "$$\\min 0.013 x_1 + 0.008 x_2 + 0.010 x_3 + 0.002 x_4 + 0.005 x_5 + 0.001 x_6$$\n",
    "\n",
    "Las restricciones estarían dadas por el siguiente conjunto de ecuaciones:\n",
    "\n",
    "$x_1+x_2+x_3+x_4+x_5+x_6=100$  \n",
    "\n",
    "$(10.0 x_1+ 20.0 x_2+ 15.0 x_3+ 00.0 x_4+ 04.0 x_5+ 00.0 x_6)/100 \\geq 8.0$  \n",
    "\n",
    "$(08.0 x_1+ 10.0 x_2+ 11.0 x_3+ 01.0 x_4+ 01.0 x_5+ 00.0 x_6)/100 \\geq 6.0$  \n",
    "\n",
    "$(00.1 x_1+ 00.5 x_2+ 00.5 x_3+ 10.0 x_4+ 15.0 x_5+ 00.0 x_6)/100 \\leq 2.0$  \n",
    "\n",
    "$(00.2 x_1+ 00.5 x_2+ 00.7 x_3+ 00.2 x_4+ 00.8 x_5+ 00.0 x_6)/100 \\leq 0.4$  \n",
    "\n",
    "La primer condición asegura que la cantidad de productos que se usará cumple con los 100 gramos. Las siguientes sólo siguen los lineamientos planteados para cumplir con los requisitos nutrimentales. "
   ]
  },
  {
   "cell_type": "markdown",
   "metadata": {},
   "source": [
    "### 2. Otro problema de transporte\n",
    "\n",
    "Referencia: https://relopezbriega.github.io/blog/2017/01/18/problemas-de-optimizacion-con-python/\n",
    "\n",
    "Supongamos que tenemos que enviar cajas de cervezas de 2 cervecerías (Modelo y Cuauhtémoc Moctezuma) a 5 bares de acuerdo al siguiente gráfico:\n",
    "\n",
    "<img style=\"float: center; margin: 0px 0px 15px 15px;\" src=\"https://relopezbriega.github.io/images/Trans_problem.png\" width=\"500px\" height=\"150px\" />\n",
    "\n",
    "Asimismo, supongamos que nuestro gerente financiero nos informa que el costo de transporte por caja de cada ruta se conforma de acuerdo a la siguiente tabla:"
   ]
  },
  {
   "cell_type": "code",
   "execution_count": 56,
   "metadata": {},
   "outputs": [
    {
     "data": {
      "text/html": [
       "<div>\n",
       "<style scoped>\n",
       "    .dataframe tbody tr th:only-of-type {\n",
       "        vertical-align: middle;\n",
       "    }\n",
       "\n",
       "    .dataframe tbody tr th {\n",
       "        vertical-align: top;\n",
       "    }\n",
       "\n",
       "    .dataframe thead th {\n",
       "        text-align: right;\n",
       "    }\n",
       "</style>\n",
       "<table border=\"1\" class=\"dataframe\">\n",
       "  <thead>\n",
       "    <tr style=\"text-align: right;\">\n",
       "      <th></th>\n",
       "      <th>Bar1</th>\n",
       "      <th>Bar2</th>\n",
       "      <th>Bar3</th>\n",
       "      <th>Bar4</th>\n",
       "      <th>Bar5</th>\n",
       "    </tr>\n",
       "  </thead>\n",
       "  <tbody>\n",
       "    <tr>\n",
       "      <th>CerveceriaA</th>\n",
       "      <td>2</td>\n",
       "      <td>4</td>\n",
       "      <td>5</td>\n",
       "      <td>2</td>\n",
       "      <td>1</td>\n",
       "    </tr>\n",
       "    <tr>\n",
       "      <th>CerveceriaB</th>\n",
       "      <td>3</td>\n",
       "      <td>1</td>\n",
       "      <td>3</td>\n",
       "      <td>2</td>\n",
       "      <td>3</td>\n",
       "    </tr>\n",
       "  </tbody>\n",
       "</table>\n",
       "</div>"
      ],
      "text/plain": [
       "             Bar1  Bar2  Bar3  Bar4  Bar5\n",
       "CerveceriaA     2     4     5     2     1\n",
       "CerveceriaB     3     1     3     2     3"
      ]
     },
     "execution_count": 56,
     "metadata": {},
     "output_type": "execute_result"
    }
   ],
   "source": [
    "import pandas as pd\n",
    "info = pd.DataFrame({'Bar1': [2, 3], 'Bar2': [4, 1], 'Bar3': [5, 3], 'Bar4': [2, 2], 'Bar5': [1, 3]}, index = ['CerveceriaA', 'CerveceriaB'])\n",
    "info"
   ]
  },
  {
   "cell_type": "markdown",
   "metadata": {},
   "source": [
    "Y por último, las restricciones del problema, van a estar dadas por las capacidades de oferta y demanda de cada cervecería (en cajas de cerveza) y cada bar, las cuales se detallan en el gráfico de más arriba."
   ]
  },
  {
   "cell_type": "markdown",
   "metadata": {},
   "source": [
    "Sean:\n",
    "- $x_i$ cajas transportadas de la cervecería A al Bar $i$,\n",
    "- $x_{i+5}$ cajas transportadas de la cervecería B al Bar $i$.\n",
    "\n",
    "La tarea consiste en plantear el problema de minimizar el costo de transporte de la forma vista y resolverlo con `linprog`.\n",
    "\n",
    "Deben crear un notebook de jupyter (archivo .ipynb) y llamarlo Tarea4_ApellidoNombre, y subirlo a moodle.\n",
    "\n",
    "**Definir fecha**"
   ]
  },
  {
   "cell_type": "markdown",
   "metadata": {},
   "source": [
    "<script>\n",
    "  $(document).ready(function(){\n",
    "    $('div.prompt').hide();\n",
    "    $('div.back-to-top').hide();\n",
    "    $('nav#menubar').hide();\n",
    "    $('.breadcrumb').hide();\n",
    "    $('.hidden-print').hide();\n",
    "  });\n",
    "</script>\n",
    "\n",
    "<footer id=\"attribution\" style=\"float:right; color:#808080; background:#fff;\">\n",
    "Created with Jupyter by Adriana García, based on Esteban Jiménez Rodríguez notes.\n",
    "</footer>"
   ]
  }
 ],
 "metadata": {
  "kernelspec": {
   "display_name": "Python 3",
   "language": "python",
   "name": "python3"
  },
  "language_info": {
   "codemirror_mode": {
    "name": "ipython",
    "version": 3
   },
   "file_extension": ".py",
   "mimetype": "text/x-python",
   "name": "python",
   "nbconvert_exporter": "python",
   "pygments_lexer": "ipython3",
   "version": "3.8.8"
  }
 },
 "nbformat": 4,
 "nbformat_minor": 2
}
